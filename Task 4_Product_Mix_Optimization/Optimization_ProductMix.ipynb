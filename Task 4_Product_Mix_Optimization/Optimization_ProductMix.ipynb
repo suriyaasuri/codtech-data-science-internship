
{
 "cells": [
  {
   "cell_type": "markdown",
   "metadata": {},
   "source": [
    "# Product Mix Optimization Using Linear Programming\n",
    "Using PuLP to maximize profit given resource constraints."
   ]
  },
  {
   "cell_type": "code",
   "execution_count": null,
   "metadata": {},
   "outputs": [],
   "source": [
    "from pulp import LpMaximize, LpProblem, LpVariable
",
    "
",
    "# Create model
",
    "model = LpProblem(name='product-mix', sense=LpMaximize)
",
    "
",
    "# Decision variables
",
    "x = LpVariable(name='Product_A', lowBound=0, cat='Integer')
",
    "y = LpVariable(name='Product_B', lowBound=0, cat='Integer')
",
    "
",
    "# Objective function
",
    "model += 40 * x + 30 * y, 'Profit'
",
    "
",
    "# Constraints
",
    "model += 2 * x + y <= 100, 'Material'
",
    "model += x + 2 * y <= 80, 'Labor'
",
    "
",
    "# Solve
",
    "model.solve()
",
    "print(f"Produce {x.value()} units of Product A")
",
    "print(f"Produce {y.value()} units of Product B")"
   ]
  }
 ],
 "metadata": {},
 "nbformat": 4,
 "nbformat_minor": 2
}
